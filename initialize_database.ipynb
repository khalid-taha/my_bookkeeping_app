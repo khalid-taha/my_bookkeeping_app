{
 "cells": [
  {
   "cell_type": "markdown",
   "metadata": {},
   "source": [
    "Build the database"
   ]
  },
  {
   "cell_type": "code",
   "execution_count": 1,
   "metadata": {},
   "outputs": [
    {
     "name": "stdout",
     "output_type": "stream",
     "text": [
      "/mnt/c/sqlite/sqlite3.exe\n",
      "3.46.0 2024-05-23 13:25:27 96c92aba00c8375bc32fafcdf12429c58bd8aabfcadab6683e35bbb9cdebf19e (64-bit)\n",
      "1|Purchases\n",
      "2|Sales\n",
      "3|Purchase Returns\n",
      "4|Sales Returns\n",
      "5|Receipts\n",
      "6|Payments\n",
      "7|Petty Cash Expenses\n",
      "8|Asset Purchases and Adjustments\n",
      "9|Corrections and Adjustments\n"
     ]
    }
   ],
   "source": [
    "# Run the shell script\n",
    "!bash ./database_ddl_and_ref_data.sh\n",
    "# !bash ./test.sh"
   ]
  },
  {
   "cell_type": "markdown",
   "metadata": {},
   "source": [
    "Load the SQL extension and connect to the SQLite database"
   ]
  },
  {
   "cell_type": "code",
   "execution_count": 2,
   "metadata": {},
   "outputs": [],
   "source": [
    "#%load_ext sql\n",
    "%reload_ext sql\n",
    "%sql sqlite:///instance/my_database.db \n",
    "\n",
    "\n",
    "\n",
    "\n",
    "\n",
    "\n"
   ]
  },
  {
   "cell_type": "markdown",
   "metadata": {},
   "source": [
    "Run SQL commands"
   ]
  },
  {
   "cell_type": "code",
   "execution_count": 3,
   "metadata": {},
   "outputs": [
    {
     "name": "stdout",
     "output_type": "stream",
     "text": [
      " * sqlite:///instance/my_database.db\n",
      "Done.\n"
     ]
    },
    {
     "data": {
      "text/html": [
       "<table>\n",
       "    <thead>\n",
       "        <tr>\n",
       "            <th>id</th>\n",
       "            <th>name</th>\n",
       "        </tr>\n",
       "    </thead>\n",
       "    <tbody>\n",
       "        <tr>\n",
       "            <td>1</td>\n",
       "            <td>Purchases</td>\n",
       "        </tr>\n",
       "        <tr>\n",
       "            <td>2</td>\n",
       "            <td>Sales</td>\n",
       "        </tr>\n",
       "        <tr>\n",
       "            <td>3</td>\n",
       "            <td>Purchase Returns</td>\n",
       "        </tr>\n",
       "        <tr>\n",
       "            <td>4</td>\n",
       "            <td>Sales Returns</td>\n",
       "        </tr>\n",
       "        <tr>\n",
       "            <td>5</td>\n",
       "            <td>Receipts</td>\n",
       "        </tr>\n",
       "        <tr>\n",
       "            <td>6</td>\n",
       "            <td>Payments</td>\n",
       "        </tr>\n",
       "        <tr>\n",
       "            <td>7</td>\n",
       "            <td>Petty Cash Expenses</td>\n",
       "        </tr>\n",
       "        <tr>\n",
       "            <td>8</td>\n",
       "            <td>Asset Purchases and Adjustments</td>\n",
       "        </tr>\n",
       "        <tr>\n",
       "            <td>9</td>\n",
       "            <td>Corrections and Adjustments</td>\n",
       "        </tr>\n",
       "    </tbody>\n",
       "</table>"
      ],
      "text/plain": [
       "[(1, 'Purchases'),\n",
       " (2, 'Sales'),\n",
       " (3, 'Purchase Returns'),\n",
       " (4, 'Sales Returns'),\n",
       " (5, 'Receipts'),\n",
       " (6, 'Payments'),\n",
       " (7, 'Petty Cash Expenses'),\n",
       " (8, 'Asset Purchases and Adjustments'),\n",
       " (9, 'Corrections and Adjustments')]"
      ]
     },
     "execution_count": 3,
     "metadata": {},
     "output_type": "execute_result"
    }
   ],
   "source": [
    "%%sql\n",
    "SELECT * FROM categories;\n"
   ]
  },
  {
   "cell_type": "code",
   "execution_count": 4,
   "metadata": {},
   "outputs": [
    {
     "name": "stdout",
     "output_type": "stream",
     "text": [
      " * sqlite:///instance/my_database.db\n",
      "Done.\n"
     ]
    },
    {
     "data": {
      "text/html": [
       "<table>\n",
       "    <thead>\n",
       "        <tr>\n",
       "            <th>id</th>\n",
       "            <th>total_amount</th>\n",
       "            <th>amount</th>\n",
       "            <th>vat</th>\n",
       "            <th>transaction_description</th>\n",
       "            <th>category_id</th>\n",
       "        </tr>\n",
       "    </thead>\n",
       "    <tbody>\n",
       "    </tbody>\n",
       "</table>"
      ],
      "text/plain": [
       "[]"
      ]
     },
     "execution_count": 4,
     "metadata": {},
     "output_type": "execute_result"
    }
   ],
   "source": [
    "%%sql\n",
    "SELECT * FROM transactions;"
   ]
  },
  {
   "cell_type": "markdown",
   "metadata": {},
   "source": [
    "Run the Flask application using threading to  in the background"
   ]
  },
  {
   "cell_type": "code",
   "execution_count": null,
   "metadata": {},
   "outputs": [],
   "source": [
    "import threading\n",
    "import os\n",
    "\n",
    "def run_flask_app():\n",
    "    os.system('python app.py')\n",
    "\n",
    "# Start the Flask app in a separate thread\n",
    "flask_thread = threading.Thread(target=run_flask_app)\n",
    "flask_thread.start()\n",
    "\n",
    "print(\"Flask app is running...\")\n"
   ]
  },
  {
   "cell_type": "markdown",
   "metadata": {},
   "source": [
    "Open the browser"
   ]
  },
  {
   "cell_type": "code",
   "execution_count": null,
   "metadata": {},
   "outputs": [],
   "source": [
    "import webbrowser\n",
    "\n",
    "# Open a new browser window with the specified URL\n",
    "webbrowser.open('http://127.0.0.1:5000/transactions')\n"
   ]
  },
  {
   "cell_type": "markdown",
   "metadata": {},
   "source": [
    "Kill Flask Instances"
   ]
  },
  {
   "cell_type": "code",
   "execution_count": 5,
   "metadata": {},
   "outputs": [
    {
     "name": "stdout",
     "output_type": "stream",
     "text": [
      "Attempted to kill all Flask instances.\n"
     ]
    }
   ],
   "source": [
    "import psutil\n",
    "import os\n",
    "\n",
    "def kill_flask_instances():\n",
    "    # Get the current process ID\n",
    "    current_pid = os.getpid()\n",
    "    \n",
    "    # Iterate through all processes\n",
    "    for proc in psutil.process_iter(['pid', 'name', 'cmdline']):\n",
    "        try:\n",
    "            # Debug print to show the processes being checked\n",
    "            # print(f\"Checking process {proc.info['pid']}: {proc.info['name']} {proc.info['cmdline']}\")\n",
    "            \n",
    "            # Check if the process is a Python process and contains 'app.py' in the command line\n",
    "            if proc.info['name'] in ['python', 'python3', 'python.exe'] and 'app.py' in proc.info['cmdline']:\n",
    "                # Ensure we're not killing the current notebook process\n",
    "                if proc.info['pid'] != current_pid:\n",
    "                    proc.terminate()  # or proc.kill()\n",
    "                    proc.wait()  # wait for the process to be fully terminated\n",
    "                    print(f\"Killed Flask process with PID: {proc.info['pid']}\")\n",
    "        except (psutil.NoSuchProcess, psutil.AccessDenied, psutil.ZombieProcess) as e:\n",
    "            print(f\"Failed to check process {proc.info['pid']}: {str(e)}\")\n",
    "            continue\n",
    "\n",
    "kill_flask_instances()\n",
    "print(\"Attempted to kill all Flask instances.\")\n"
   ]
  }
 ],
 "metadata": {
  "kernelspec": {
   "display_name": "venv",
   "language": "python",
   "name": "python3"
  },
  "language_info": {
   "codemirror_mode": {
    "name": "ipython",
    "version": 3
   },
   "file_extension": ".py",
   "mimetype": "text/x-python",
   "name": "python",
   "nbconvert_exporter": "python",
   "pygments_lexer": "ipython3",
   "version": "3.12.4"
  }
 },
 "nbformat": 4,
 "nbformat_minor": 2
}
