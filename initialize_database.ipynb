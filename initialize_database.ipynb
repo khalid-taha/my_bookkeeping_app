{
 "cells": [
  {
   "cell_type": "markdown",
   "metadata": {},
   "source": [
    "Import the function to initialize ande create the database"
   ]
  },
  {
   "cell_type": "code",
   "execution_count": 13,
   "metadata": {},
   "outputs": [
    {
     "name": "stdout",
     "output_type": "stream",
     "text": [
      "Database and tables created successfully.\n"
     ]
    }
   ],
   "source": [
    "# Import the function to initialize the database\n",
    "from setup_database import initialize_database\n",
    "\n",
    "# Call the function to create the database and tables\n",
    "initialize_database()\n",
    "\n",
    "print(\"Database and tables created successfully.\")\n"
   ]
  },
  {
   "cell_type": "markdown",
   "metadata": {},
   "source": [
    "Run the Flask application using threading to  in the background"
   ]
  },
  {
   "cell_type": "code",
   "execution_count": 26,
   "metadata": {},
   "outputs": [
    {
     "name": "stdout",
     "output_type": "stream",
     "text": [
      "Flask app is running...\n"
     ]
    }
   ],
   "source": [
    "import threading\n",
    "import os\n",
    "\n",
    "def run_flask_app():\n",
    "    os.system('python app.py')\n",
    "\n",
    "# Start the Flask app in a separate thread\n",
    "flask_thread = threading.Thread(target=run_flask_app)\n",
    "flask_thread.start()\n",
    "\n",
    "print(\"Flask app is running...\")\n"
   ]
  },
  {
   "cell_type": "markdown",
   "metadata": {},
   "source": [
    "Open the browser"
   ]
  },
  {
   "cell_type": "code",
   "execution_count": 27,
   "metadata": {},
   "outputs": [
    {
     "data": {
      "text/plain": [
       "True"
      ]
     },
     "execution_count": 27,
     "metadata": {},
     "output_type": "execute_result"
    }
   ],
   "source": [
    "import webbrowser\n",
    "\n",
    "# Open a new browser window with the specified URL\n",
    "webbrowser.open('http://127.0.0.1:5000/')\n"
   ]
  },
  {
   "cell_type": "markdown",
   "metadata": {},
   "source": [
    "Kill Flask Instances"
   ]
  },
  {
   "cell_type": "code",
   "execution_count": 28,
   "metadata": {},
   "outputs": [
    {
     "name": "stdout",
     "output_type": "stream",
     "text": [
      "Killed Flask process with PID: 2472\n",
      "Attempted to kill all Flask instances.\n"
     ]
    }
   ],
   "source": [
    "import psutil\n",
    "import os\n",
    "\n",
    "def kill_flask_instances():\n",
    "    # Get the current process ID\n",
    "    current_pid = os.getpid()\n",
    "    \n",
    "    # Iterate through all processes\n",
    "    for proc in psutil.process_iter(['pid', 'name', 'cmdline']):\n",
    "        try:\n",
    "            # Debug print to show the processes being checked\n",
    "            # print(f\"Checking process {proc.info['pid']}: {proc.info['name']} {proc.info['cmdline']}\")\n",
    "            \n",
    "            # Check if the process is a Python process and contains 'app.py' in the command line\n",
    "            if proc.info['name'] in ['python', 'python3', 'python.exe'] and 'app.py' in proc.info['cmdline']:\n",
    "                # Ensure we're not killing the current notebook process\n",
    "                if proc.info['pid'] != current_pid:\n",
    "                    proc.terminate()  # or proc.kill()\n",
    "                    proc.wait()  # wait for the process to be fully terminated\n",
    "                    print(f\"Killed Flask process with PID: {proc.info['pid']}\")\n",
    "        except (psutil.NoSuchProcess, psutil.AccessDenied, psutil.ZombieProcess) as e:\n",
    "            print(f\"Failed to check process {proc.info['pid']}: {str(e)}\")\n",
    "            continue\n",
    "\n",
    "kill_flask_instances()\n",
    "print(\"Attempted to kill all Flask instances.\")\n"
   ]
  }
 ],
 "metadata": {
  "kernelspec": {
   "display_name": "venv",
   "language": "python",
   "name": "python3"
  },
  "language_info": {
   "codemirror_mode": {
    "name": "ipython",
    "version": 3
   },
   "file_extension": ".py",
   "mimetype": "text/x-python",
   "name": "python",
   "nbconvert_exporter": "python",
   "pygments_lexer": "ipython3",
   "version": "3.12.4"
  }
 },
 "nbformat": 4,
 "nbformat_minor": 2
}
